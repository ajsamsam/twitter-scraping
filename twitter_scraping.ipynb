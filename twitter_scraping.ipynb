{
  "cells": [
    {
      "cell_type": "code",
      "execution_count": null,
      "metadata": {
        "colab": {
          "base_uri": "https://localhost:8080/"
        },
        "id": "x8t4pI0mNwPR",
        "outputId": "7a074e89-4e49-4c68-a605-feb182c93336"
      },
      "outputs": [
        {
          "output_type": "stream",
          "name": "stdout",
          "text": [
            "Looking in indexes: https://pypi.org/simple, https://us-python.pkg.dev/colab-wheels/public/simple/\n",
            "Requirement already satisfied: snscrape in /usr/local/lib/python3.8/dist-packages (0.6.0.20230303)\n",
            "Requirement already satisfied: beautifulsoup4 in /usr/local/lib/python3.8/dist-packages (from snscrape) (4.6.3)\n",
            "Requirement already satisfied: pytz in /usr/local/lib/python3.8/dist-packages (from snscrape) (2022.7.1)\n",
            "Requirement already satisfied: lxml in /usr/local/lib/python3.8/dist-packages (from snscrape) (4.9.2)\n",
            "Requirement already satisfied: filelock in /usr/local/lib/python3.8/dist-packages (from snscrape) (3.9.0)\n",
            "Requirement already satisfied: requests[socks] in /usr/local/lib/python3.8/dist-packages (from snscrape) (2.25.1)\n",
            "Requirement already satisfied: chardet<5,>=3.0.2 in /usr/local/lib/python3.8/dist-packages (from requests[socks]->snscrape) (4.0.0)\n",
            "Requirement already satisfied: certifi>=2017.4.17 in /usr/local/lib/python3.8/dist-packages (from requests[socks]->snscrape) (2022.12.7)\n",
            "Requirement already satisfied: urllib3<1.27,>=1.21.1 in /usr/local/lib/python3.8/dist-packages (from requests[socks]->snscrape) (1.26.14)\n",
            "Requirement already satisfied: idna<3,>=2.5 in /usr/local/lib/python3.8/dist-packages (from requests[socks]->snscrape) (2.10)\n",
            "Requirement already satisfied: PySocks!=1.5.7,>=1.5.6 in /usr/local/lib/python3.8/dist-packages (from requests[socks]->snscrape) (1.7.1)\n"
          ]
        }
      ],
      "source": [
        "pip install snscrape"
      ]
    },
    {
      "cell_type": "code",
      "execution_count": null,
      "metadata": {
        "id": "swoQEgN7NwMs"
      },
      "outputs": [],
      "source": [
        "import snscrape.modules.twitter as tw\n",
        "import pandas as pd"
      ]
    },
    {
      "cell_type": "code",
      "execution_count": null,
      "metadata": {
        "id": "9-uqBCV9Nnbn"
      },
      "outputs": [],
      "source": [
        "\n",
        "# Scrape tweet data using snscrape\n",
        "tweets = []\n",
        "search_terms = ['pathaan','Pathaan','PATHAN','PATHAAN','pathan','Pathan']\n",
        "# n_tweets = 20\n",
        "for search_term in search_terms:\n",
        "  for tweet in tw.TwitterSearchScraper(f'{search_term} since:2023-01-10 until:2023-02-09').get_items():\n",
        "    # if len(tweets) == n_tweets:\n",
        "    #   break\n",
        "    # else:\n",
        "    if tweet.lang == 'en' :\n",
        "      tweets.append([tweet.id,tweet.user.id, tweet.rawContent ,tweet.date, tweet.user.username, tweet.likeCount, tweet.retweetCount,tweet.replyCount,tweet.quoteCount])\n",
        "\n",
        "# Store tweet data in a pandas DataFrame\n",
        "df = pd.DataFrame(tweets, columns=['id', 'userid', 'rawContent', 'date','username','likeCount','retweetCount','replyCount','quoteCount'])\n",
        "df.to_json('pathan_release.json')\n",
        "\n",
        "df.to_json('/content/drive/MyDrive/data/pathan_release.json')\n",
        "df.to_csv('/content/drive/MyDrive/data/pathan_release.csv' , index=False)"
      ]
    }
  ],
  "metadata": {
    "colab": {
      "provenance": []
    },
    "kernelspec": {
      "display_name": "Python 3",
      "name": "python3"
    },
    "language_info": {
      "name": "python"
    }
  },
  "nbformat": 4,
  "nbformat_minor": 0
}